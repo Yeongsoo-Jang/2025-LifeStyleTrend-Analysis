{
 "cells": [
  {
   "cell_type": "code",
   "execution_count": null,
   "id": "479af8a4",
   "metadata": {},
   "outputs": [],
   "source": [
    "from connector.connect import connect\n",
    "from modeling.run_phase2 import run_phase2\n",
    "\n",
    "# Phase 1 실행: 네이버 API 연결 및 데이터 수집\n",
    "cleaned_df = connect()\n",
    "\n",
    "# Phase 2 실행: 모델 학습 및 예측\n",
    "decomposed_groups, forecasts, insights = run_phase2(cleaned_df)"
   ]
  },
  {
   "cell_type": "code",
   "execution_count": null,
   "id": "60dc107a",
   "metadata": {},
   "outputs": [],
   "source": [
    "decomposed_groups"
   ]
  },
  {
   "cell_type": "code",
   "execution_count": null,
   "id": "2ac915b3",
   "metadata": {},
   "outputs": [],
   "source": [
    "forecasts"
   ]
  }
 ],
 "metadata": {
  "kernelspec": {
   "display_name": "Python 3",
   "language": "python",
   "name": "python3"
  },
  "language_info": {
   "codemirror_mode": {
    "name": "ipython",
    "version": 3
   },
   "file_extension": ".py",
   "mimetype": "text/x-python",
   "name": "python",
   "nbconvert_exporter": "python",
   "pygments_lexer": "ipython3",
   "version": "3.10.7"
  }
 },
 "nbformat": 4,
 "nbformat_minor": 5
}
